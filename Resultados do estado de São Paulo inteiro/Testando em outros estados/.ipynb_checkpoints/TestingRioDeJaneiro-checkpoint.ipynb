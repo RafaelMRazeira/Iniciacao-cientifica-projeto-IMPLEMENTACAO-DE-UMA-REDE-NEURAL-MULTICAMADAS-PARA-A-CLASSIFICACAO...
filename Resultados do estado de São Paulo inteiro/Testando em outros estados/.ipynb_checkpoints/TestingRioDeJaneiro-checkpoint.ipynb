{
 "cells": [
  {
   "cell_type": "code",
   "execution_count": 1,
   "metadata": {},
   "outputs": [],
   "source": [
    "import numpy as np\n",
    "import json\n",
    "from tensorflow.keras.preprocessing.text import tokenizer_from_json\n",
    "from tensorflow.keras.preprocessing.sequence import pad_sequences\n",
    "import pandas as pd\n",
    "import tensorflow as tf"
   ]
  },
  {
   "cell_type": "code",
   "execution_count": 2,
   "metadata": {},
   "outputs": [],
   "source": [
    "len_vcb = 366549\n",
    "seed = 123\n",
    "max_len = 150"
   ]
  },
  {
   "cell_type": "code",
   "execution_count": 3,
   "metadata": {},
   "outputs": [],
   "source": [
    "with open('/home/rafael/Documents/Faculdade/ICs/IC Direito/codes/pre-processing/3. Fine-Tuning NER rodando no servidor/Resultados em toda base de SP/utils/tokenizer_100k.json') as f: \n",
    "    data = json.load(f) \n",
    "    tok = tokenizer_from_json(data)"
   ]
  },
  {
   "cell_type": "code",
   "execution_count": 4,
   "metadata": {},
   "outputs": [],
   "source": [
    "### definindo metricas customizadas\n",
    "\n",
    "def recall(y_true, y_pred):\n",
    "    y_pred = tf.cast(K.argmax(y_pred), tf.float32) # transformando o vetor de (None, 150, n_tags) para (None, 150)\n",
    "    macro_recall = 0\n",
    "    y_pred = y_pred[y_true != 0] # retira zero\n",
    "    y_true = y_true[y_true != 0] # retira zero\n",
    "    equals = y_pred[K.equal(y_true,y_pred)]  # calcula os verdadeiros positivos, ignorando o zero\n",
    "    \n",
    "    for i in range(1,n_tags):\n",
    "        equals_positives = equals[equals == i]  \n",
    "        true_positives = K.sum(equals_positives/i) # divide por i, para que os valores se tornem 1\n",
    "\n",
    "        equals_possibles = y_true[K.equal(y_true,K.constant(i))]/i\n",
    "        possible_positives = K.sum(equals_possibles)\n",
    "\n",
    "        recall = true_positives / (possible_positives + K.epsilon())\n",
    "        macro_recall = macro_recall + recall\n",
    "\n",
    "    macro_recall = macro_recall/(n_tags-1)  \n",
    "\n",
    "    return macro_recall\n",
    "\n",
    "def precision(y_true, y_pred):\n",
    "    y_pred = tf.cast(K.argmax(y_pred), tf.float32) # trannsformando o vetor de (None, 150, n_tags) para (None, 150)\n",
    "    macro_precision = 0\n",
    "    y_pred = y_pred[y_true != 0] # retira zero\n",
    "    y_true = y_true[y_true != 0] # retira zero\n",
    "    equals = y_true[K.equal(y_true,y_pred)]  # calcula os verdadeiros positivos, ignorando o zero\n",
    "    \n",
    "    for i in range(1,n_tags):\n",
    "        equals_positives = equals[equals == i]  \n",
    "        true_positives = K.sum(equals_positives/i) # divide por i, para que os valores se tornem 1\n",
    "\n",
    "        equals_pred_possibles = y_pred[K.equal(y_pred,K.constant(i))]/i\n",
    "        predicted_positives = K.sum(equals_pred_possibles)\n",
    "\n",
    "        precision = true_positives / (predicted_positives + K.epsilon())\n",
    "        macro_precision = macro_precision + precision\n",
    "\n",
    "    macro_precision = macro_precision/(n_tags-1)\n",
    "\n",
    "    return macro_precision\n",
    "\n",
    "def macro_f1(y_true, y_pred):\n",
    "    prec = precision(y_true, y_pred)\n",
    "    rec = recall(y_true, y_pred)\n",
    "    return 2*((prec*rec)/(prec+rec+K.epsilon()))"
   ]
  },
  {
   "cell_type": "code",
   "execution_count": 5,
   "metadata": {},
   "outputs": [],
   "source": [
    "custom_metrics = {\"recall\": recall,\"precision\": precision, \"macro_f1\": macro_f1}\n",
    "model = tf.keras.models.load_model(\n",
    "    '/home/rafael/Documents/Faculdade/ICs/IC Direito/codes/pre-processing/3. Fine-Tuning NER rodando no servidor/Resultados em toda base de SP/SP_TOTAL_1EPOCH.h5',\n",
    "    custom_objects=custom_metrics)"
   ]
  },
  {
   "cell_type": "code",
   "execution_count": 6,
   "metadata": {},
   "outputs": [],
   "source": [
    "piaui_df = pd.read_json('/home/rafael/Documents/Faculdade/ICs/IC Direito/data/samples/sample_piaui_edital.json', lines=True)    "
   ]
  },
  {
   "cell_type": "code",
   "execution_count": 7,
   "metadata": {},
   "outputs": [
    {
     "data": {
      "text/plain": [
       "['AVISO DE INTIMAÇÃO (4ª Vara de PICOS) Processo nº 0000965-89.2009.8.18.0032 Classe: Ação Penal - Procedimento Ordinário Indiciante: MINISTERIO PUBLICO Advogado(s): Indiciado: MAYCON RAMON LEITE MEDEIROS Advogado(s): ALLAN MANOEL DE CARVALHO(OAB/PIAUÍ Nº 6763) DESPACHO: \" Designo nova data para continuação da audiência de instrução e julgamento, o dia 19/02/2018 às 12h30min\"']"
      ]
     },
     "execution_count": 7,
     "metadata": {},
     "output_type": "execute_result"
    }
   ],
   "source": [
    "piaui_sample = piaui_df.sample(1, random_state=seed)['conteudo'].to_list()\n",
    "piaui_sample"
   ]
  },
  {
   "cell_type": "code",
   "execution_count": 8,
   "metadata": {},
   "outputs": [
    {
     "data": {
      "text/html": [
       "<div>\n",
       "<style scoped>\n",
       "    .dataframe tbody tr th:only-of-type {\n",
       "        vertical-align: middle;\n",
       "    }\n",
       "\n",
       "    .dataframe tbody tr th {\n",
       "        vertical-align: top;\n",
       "    }\n",
       "\n",
       "    .dataframe thead th {\n",
       "        text-align: right;\n",
       "    }\n",
       "</style>\n",
       "<table border=\"1\" class=\"dataframe\">\n",
       "  <thead>\n",
       "    <tr style=\"text-align: right;\">\n",
       "      <th></th>\n",
       "      <th>0</th>\n",
       "      <th>1</th>\n",
       "      <th>2</th>\n",
       "      <th>3</th>\n",
       "      <th>4</th>\n",
       "      <th>5</th>\n",
       "      <th>6</th>\n",
       "      <th>7</th>\n",
       "      <th>8</th>\n",
       "      <th>9</th>\n",
       "      <th>...</th>\n",
       "      <th>49</th>\n",
       "      <th>50</th>\n",
       "      <th>51</th>\n",
       "      <th>52</th>\n",
       "      <th>53</th>\n",
       "      <th>54</th>\n",
       "      <th>55</th>\n",
       "      <th>56</th>\n",
       "      <th>57</th>\n",
       "      <th>58</th>\n",
       "    </tr>\n",
       "  </thead>\n",
       "  <tbody>\n",
       "    <tr>\n",
       "      <th>0</th>\n",
       "      <td>11645</td>\n",
       "      <td>22</td>\n",
       "      <td>3556</td>\n",
       "      <td>1810</td>\n",
       "      <td>405</td>\n",
       "      <td>2</td>\n",
       "      <td>1</td>\n",
       "      <td>16</td>\n",
       "      <td>46</td>\n",
       "      <td>144634</td>\n",
       "      <td>...</td>\n",
       "      <td>654</td>\n",
       "      <td>6</td>\n",
       "      <td>169</td>\n",
       "      <td>5</td>\n",
       "      <td>201</td>\n",
       "      <td>479</td>\n",
       "      <td>266</td>\n",
       "      <td>7809</td>\n",
       "      <td>79</td>\n",
       "      <td>28327</td>\n",
       "    </tr>\n",
       "  </tbody>\n",
       "</table>\n",
       "<p>1 rows × 59 columns</p>\n",
       "</div>"
      ],
      "text/plain": [
       "      0   1     2     3    4   5   6   7   8       9   ...   49  50   51  52  \\\n",
       "0  11645  22  3556  1810  405   2   1  16  46  144634  ...  654   6  169   5   \n",
       "\n",
       "    53   54   55    56  57     58  \n",
       "0  201  479  266  7809  79  28327  \n",
       "\n",
       "[1 rows x 59 columns]"
      ]
     },
     "execution_count": 8,
     "metadata": {},
     "output_type": "execute_result"
    }
   ],
   "source": [
    "piaui_sample_tokenized = tok.texts_to_sequences(piaui_sample)\n",
    "pd.DataFrame(piaui_sample_tokenized[0]).T"
   ]
  },
  {
   "cell_type": "code",
   "execution_count": 9,
   "metadata": {},
   "outputs": [
    {
     "data": {
      "text/html": [
       "<div>\n",
       "<style scoped>\n",
       "    .dataframe tbody tr th:only-of-type {\n",
       "        vertical-align: middle;\n",
       "    }\n",
       "\n",
       "    .dataframe tbody tr th {\n",
       "        vertical-align: top;\n",
       "    }\n",
       "\n",
       "    .dataframe thead th {\n",
       "        text-align: right;\n",
       "    }\n",
       "</style>\n",
       "<table border=\"1\" class=\"dataframe\">\n",
       "  <thead>\n",
       "    <tr style=\"text-align: right;\">\n",
       "      <th></th>\n",
       "      <th>0</th>\n",
       "      <th>1</th>\n",
       "      <th>2</th>\n",
       "      <th>3</th>\n",
       "      <th>4</th>\n",
       "      <th>5</th>\n",
       "      <th>6</th>\n",
       "      <th>7</th>\n",
       "      <th>8</th>\n",
       "      <th>9</th>\n",
       "      <th>...</th>\n",
       "      <th>140</th>\n",
       "      <th>141</th>\n",
       "      <th>142</th>\n",
       "      <th>143</th>\n",
       "      <th>144</th>\n",
       "      <th>145</th>\n",
       "      <th>146</th>\n",
       "      <th>147</th>\n",
       "      <th>148</th>\n",
       "      <th>149</th>\n",
       "    </tr>\n",
       "  </thead>\n",
       "  <tbody>\n",
       "    <tr>\n",
       "      <th>0</th>\n",
       "      <td>11645</td>\n",
       "      <td>22</td>\n",
       "      <td>3556</td>\n",
       "      <td>1810</td>\n",
       "      <td>405</td>\n",
       "      <td>2</td>\n",
       "      <td>1</td>\n",
       "      <td>16</td>\n",
       "      <td>46</td>\n",
       "      <td>144634</td>\n",
       "      <td>...</td>\n",
       "      <td>0</td>\n",
       "      <td>0</td>\n",
       "      <td>0</td>\n",
       "      <td>0</td>\n",
       "      <td>0</td>\n",
       "      <td>0</td>\n",
       "      <td>0</td>\n",
       "      <td>0</td>\n",
       "      <td>0</td>\n",
       "      <td>0</td>\n",
       "    </tr>\n",
       "  </tbody>\n",
       "</table>\n",
       "<p>1 rows × 150 columns</p>\n",
       "</div>"
      ],
      "text/plain": [
       "     0    1     2     3    4    5    6    7    8       9    ...  140  141  \\\n",
       "0  11645   22  3556  1810  405    2    1   16   46  144634  ...    0    0   \n",
       "\n",
       "   142  143  144  145  146  147  148  149  \n",
       "0    0    0    0    0    0    0    0    0  \n",
       "\n",
       "[1 rows x 150 columns]"
      ]
     },
     "execution_count": 9,
     "metadata": {},
     "output_type": "execute_result"
    }
   ],
   "source": [
    "piaui_sample_tokenized_padded = pad_sequences(maxlen=max_len,\n",
    "                                    sequences=piaui_sample_tokenized,\n",
    "                                    padding=\"post\",\n",
    "                                    truncating=\"post\")\n",
    "pd.DataFrame(piaui_sample_tokenized_padded)"
   ]
  },
  {
   "cell_type": "code",
   "execution_count": 10,
   "metadata": {},
   "outputs": [],
   "source": [
    "predicted_piaui_sample_tokenized_padded = model(piaui_sample_tokenized_padded)"
   ]
  },
  {
   "cell_type": "code",
   "execution_count": 11,
   "metadata": {},
   "outputs": [
    {
     "name": "stdout",
     "output_type": "stream",
     "text": [
      "1 AVISO\n",
      "1 DE\n",
      "1 INTIMAÇÃO\n",
      "1 4ª\n",
      "1 Vara\n",
      "1 de\n",
      "1 UNK\n",
      "1 Processo\n",
      "1 nº\n",
      "1 0000965\n",
      "1 89\n",
      "1 2009\n",
      "1 8\n",
      "1 18\n",
      "1 0032\n",
      "1 Classe\n",
      "1 Ação\n",
      "1 Penal\n",
      "1 Procedimento\n",
      "1 Ordinário\n",
      "1 UNK\n",
      "1 MINISTERIO\n",
      "1 PUBLICO\n",
      "1 Advogado\n",
      "1 s\n",
      "1 Indiciado\n",
      "1 MAYCON\n",
      "1 RAMON\n",
      "1 LEITE\n",
      "1 MEDEIROS\n",
      "1 Advogado\n",
      "1 s\n",
      "1 ALLAN\n",
      "1 MANOEL\n",
      "1 DE\n",
      "1 CARVALHO\n",
      "1 OAB\n",
      "1 PIAUÍ\n",
      "1 Nº\n",
      "1 UNK\n",
      "1 DESPACHO\n",
      "1 Designo\n",
      "1 nova\n",
      "1 data\n",
      "1 para\n",
      "1 continuação\n",
      "1 da\n",
      "1 audiência\n",
      "1 de\n",
      "1 instrução\n",
      "1 e\n",
      "1 julgamento\n",
      "1 o\n",
      "1 dia\n",
      "1 19\n",
      "1 02\n",
      "1 2018\n",
      "1 às\n",
      "1 12h30min\n"
     ]
    }
   ],
   "source": [
    "for i,p in enumerate(predicted_piaui_sample_tokenized_padded[0]):\n",
    "    if (i < len(piaui_sample_tokenized[0])): \n",
    "        print(np.argmax(p),tok.index_word[piaui_sample_tokenized[0][i]])"
   ]
  }
 ],
 "metadata": {
  "kernelspec": {
   "display_name": "Bem_Agro_env",
   "language": "python",
   "name": "bem_agro_env"
  },
  "language_info": {
   "codemirror_mode": {
    "name": "ipython",
    "version": 3
   },
   "file_extension": ".py",
   "mimetype": "text/x-python",
   "name": "python",
   "nbconvert_exporter": "python",
   "pygments_lexer": "ipython3",
   "version": "3.8.5"
  }
 },
 "nbformat": 4,
 "nbformat_minor": 4
}
