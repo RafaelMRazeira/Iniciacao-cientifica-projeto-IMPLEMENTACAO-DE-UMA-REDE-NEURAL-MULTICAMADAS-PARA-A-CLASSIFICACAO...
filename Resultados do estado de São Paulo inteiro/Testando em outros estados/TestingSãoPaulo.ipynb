{
 "cells": [
  {
   "cell_type": "code",
   "execution_count": 1,
   "metadata": {},
   "outputs": [],
   "source": [
    "import numpy as np\n",
    "import json\n",
    "from tensorflow.keras.preprocessing.text import tokenizer_from_json\n",
    "from tensorflow.keras.preprocessing.sequence import pad_sequences\n",
    "import pandas as pd\n",
    "import tensorflow as tf"
   ]
  },
  {
   "cell_type": "code",
   "execution_count": 2,
   "metadata": {},
   "outputs": [],
   "source": [
    "len_vcb = 366549\n",
    "seed = 89\n",
    "max_len = 150"
   ]
  },
  {
   "cell_type": "code",
   "execution_count": 3,
   "metadata": {},
   "outputs": [],
   "source": [
    "with open('/home/rafael/Documents/Faculdade/ICs/IC Direito/codes/pre-processing/3. Fine-Tuning NER rodando no servidor/Resultados em toda base de SP/utils/tokenizer_100k.json') as f: \n",
    "    data = json.load(f) \n",
    "    tok = tokenizer_from_json(data)"
   ]
  },
  {
   "cell_type": "code",
   "execution_count": 4,
   "metadata": {},
   "outputs": [],
   "source": [
    "### definindo metricas customizadas\n",
    "\n",
    "def recall(y_true, y_pred):\n",
    "    y_pred = tf.cast(K.argmax(y_pred), tf.float32) # transformando o vetor de (None, 150, n_tags) para (None, 150)\n",
    "    macro_recall = 0\n",
    "    y_pred = y_pred[y_true != 0] # retira zero\n",
    "    y_true = y_true[y_true != 0] # retira zero\n",
    "    equals = y_pred[K.equal(y_true,y_pred)]  # calcula os verdadeiros positivos, ignorando o zero\n",
    "    \n",
    "    for i in range(1,n_tags):\n",
    "        equals_positives = equals[equals == i]  \n",
    "        true_positives = K.sum(equals_positives/i) # divide por i, para que os valores se tornem 1\n",
    "\n",
    "        equals_possibles = y_true[K.equal(y_true,K.constant(i))]/i\n",
    "        possible_positives = K.sum(equals_possibles)\n",
    "\n",
    "        recall = true_positives / (possible_positives + K.epsilon())\n",
    "        macro_recall = macro_recall + recall\n",
    "\n",
    "    macro_recall = macro_recall/(n_tags-1)  \n",
    "\n",
    "    return macro_recall\n",
    "\n",
    "def precision(y_true, y_pred):\n",
    "    y_pred = tf.cast(K.argmax(y_pred), tf.float32) # trannsformando o vetor de (None, 150, n_tags) para (None, 150)\n",
    "    macro_precision = 0\n",
    "    y_pred = y_pred[y_true != 0] # retira zero\n",
    "    y_true = y_true[y_true != 0] # retira zero\n",
    "    equals = y_true[K.equal(y_true,y_pred)]  # calcula os verdadeiros positivos, ignorando o zero\n",
    "    \n",
    "    for i in range(1,n_tags):\n",
    "        equals_positives = equals[equals == i]  \n",
    "        true_positives = K.sum(equals_positives/i) # divide por i, para que os valores se tornem 1\n",
    "\n",
    "        equals_pred_possibles = y_pred[K.equal(y_pred,K.constant(i))]/i\n",
    "        predicted_positives = K.sum(equals_pred_possibles)\n",
    "\n",
    "        precision = true_positives / (predicted_positives + K.epsilon())\n",
    "        macro_precision = macro_precision + precision\n",
    "\n",
    "    macro_precision = macro_precision/(n_tags-1)\n",
    "\n",
    "    return macro_precision\n",
    "\n",
    "def macro_f1(y_true, y_pred):\n",
    "    prec = precision(y_true, y_pred)\n",
    "    rec = recall(y_true, y_pred)\n",
    "    return 2*((prec*rec)/(prec+rec+K.epsilon()))"
   ]
  },
  {
   "cell_type": "code",
   "execution_count": 5,
   "metadata": {},
   "outputs": [],
   "source": [
    "custom_metrics = {\"recall\": recall,\"precision\": precision, \"macro_f1\": macro_f1}\n",
    "model = tf.keras.models.load_model(\n",
    "    '/home/rafael/Documents/Faculdade/ICs/IC Direito/codes/pre-processing/3. Fine-Tuning NER rodando no servidor/Resultados em toda base de SP/SP_TOTAL_1EPOCH.h5',\n",
    "    custom_objects=custom_metrics)"
   ]
  },
  {
   "cell_type": "code",
   "execution_count": 6,
   "metadata": {},
   "outputs": [],
   "source": [
    "são_paulo_df = pd.read_json('/home/rafael/Documents/Faculdade/ICs/IC Direito/codes/pre-processing/SP_PROCESSO_E_ASSUNTO_FEITOS_BCKPV2.json')    "
   ]
  },
  {
   "cell_type": "code",
   "execution_count": 7,
   "metadata": {},
   "outputs": [
    {
     "output_type": "execute_result",
     "data": {
      "text/plain": [
       "['Processo 1001933-38.2015.8.26.0269 - Execução de Alimentos - Valor da Execução / Cálculo / Atualização - I.M.E.L.S. - A.L.S. - Vistos.Fls. 245/246 e 248: Ciente.Fls. 249/250: Em que o apresentado, tais argumentos carecem de comprovação. De tal modo, para tanto, concedo 10 (dez) dias.Após, com ou sem manifestação, tornem conclusos.Int. - ADV: FÁBIO ALBUQUERQUE (OAB 164311/SP), VITOR DE CAMARGO HOLTZ MORAES (OAB 134223/SP), MARINA LEMBO TEDESCHI LÊRA PALMIRO (OAB 364785/SP)']"
      ]
     },
     "metadata": {},
     "execution_count": 7
    }
   ],
   "source": [
    "são_paulo_sample = são_paulo_df.sample(1, random_state=seed)['Conteúdo'].to_list()\n",
    "são_paulo_sample"
   ]
  },
  {
   "cell_type": "code",
   "execution_count": 8,
   "metadata": {},
   "outputs": [
    {
     "output_type": "execute_result",
     "data": {
      "text/plain": [
       "   0      1    2   3   4   5     6   7   8    9   ...     71  72    73     74  \\\n",
       "0  16  68804  755  90  15  17  3932  78   2  290  ...  46783  11  2755  81592   \n",
       "\n",
       "      75      76      77  78      79  80  \n",
       "0  15332  203045  133706  10  203046  11  \n",
       "\n",
       "[1 rows x 81 columns]"
      ],
      "text/html": "<div>\n<style scoped>\n    .dataframe tbody tr th:only-of-type {\n        vertical-align: middle;\n    }\n\n    .dataframe tbody tr th {\n        vertical-align: top;\n    }\n\n    .dataframe thead th {\n        text-align: right;\n    }\n</style>\n<table border=\"1\" class=\"dataframe\">\n  <thead>\n    <tr style=\"text-align: right;\">\n      <th></th>\n      <th>0</th>\n      <th>1</th>\n      <th>2</th>\n      <th>3</th>\n      <th>4</th>\n      <th>5</th>\n      <th>6</th>\n      <th>7</th>\n      <th>8</th>\n      <th>9</th>\n      <th>...</th>\n      <th>71</th>\n      <th>72</th>\n      <th>73</th>\n      <th>74</th>\n      <th>75</th>\n      <th>76</th>\n      <th>77</th>\n      <th>78</th>\n      <th>79</th>\n      <th>80</th>\n    </tr>\n  </thead>\n  <tbody>\n    <tr>\n      <th>0</th>\n      <td>16</td>\n      <td>68804</td>\n      <td>755</td>\n      <td>90</td>\n      <td>15</td>\n      <td>17</td>\n      <td>3932</td>\n      <td>78</td>\n      <td>2</td>\n      <td>290</td>\n      <td>...</td>\n      <td>46783</td>\n      <td>11</td>\n      <td>2755</td>\n      <td>81592</td>\n      <td>15332</td>\n      <td>203045</td>\n      <td>133706</td>\n      <td>10</td>\n      <td>203046</td>\n      <td>11</td>\n    </tr>\n  </tbody>\n</table>\n<p>1 rows × 81 columns</p>\n</div>"
     },
     "metadata": {},
     "execution_count": 8
    }
   ],
   "source": [
    "são_paulo_sample_tokenized = tok.texts_to_sequences(são_paulo_sample)\n",
    "pd.DataFrame(são_paulo_sample_tokenized[0]).T"
   ]
  },
  {
   "cell_type": "code",
   "execution_count": 9,
   "metadata": {},
   "outputs": [
    {
     "output_type": "execute_result",
     "data": {
      "text/plain": [
       "   0      1    2    3    4    5     6    7    8    9    ...  140  141  142  \\\n",
       "0   16  68804  755   90   15   17  3932   78    2  290  ...    0    0    0   \n",
       "\n",
       "   143  144  145  146  147  148  149  \n",
       "0    0    0    0    0    0    0    0  \n",
       "\n",
       "[1 rows x 150 columns]"
      ],
      "text/html": "<div>\n<style scoped>\n    .dataframe tbody tr th:only-of-type {\n        vertical-align: middle;\n    }\n\n    .dataframe tbody tr th {\n        vertical-align: top;\n    }\n\n    .dataframe thead th {\n        text-align: right;\n    }\n</style>\n<table border=\"1\" class=\"dataframe\">\n  <thead>\n    <tr style=\"text-align: right;\">\n      <th></th>\n      <th>0</th>\n      <th>1</th>\n      <th>2</th>\n      <th>3</th>\n      <th>4</th>\n      <th>5</th>\n      <th>6</th>\n      <th>7</th>\n      <th>8</th>\n      <th>9</th>\n      <th>...</th>\n      <th>140</th>\n      <th>141</th>\n      <th>142</th>\n      <th>143</th>\n      <th>144</th>\n      <th>145</th>\n      <th>146</th>\n      <th>147</th>\n      <th>148</th>\n      <th>149</th>\n    </tr>\n  </thead>\n  <tbody>\n    <tr>\n      <th>0</th>\n      <td>16</td>\n      <td>68804</td>\n      <td>755</td>\n      <td>90</td>\n      <td>15</td>\n      <td>17</td>\n      <td>3932</td>\n      <td>78</td>\n      <td>2</td>\n      <td>290</td>\n      <td>...</td>\n      <td>0</td>\n      <td>0</td>\n      <td>0</td>\n      <td>0</td>\n      <td>0</td>\n      <td>0</td>\n      <td>0</td>\n      <td>0</td>\n      <td>0</td>\n      <td>0</td>\n    </tr>\n  </tbody>\n</table>\n<p>1 rows × 150 columns</p>\n</div>"
     },
     "metadata": {},
     "execution_count": 9
    }
   ],
   "source": [
    "são_paulo_sample_tokenized_padded = pad_sequences(maxlen=max_len,\n",
    "                                    sequences=são_paulo_sample_tokenized,\n",
    "                                    padding=\"post\",\n",
    "                                    truncating=\"post\")\n",
    "pd.DataFrame(são_paulo_sample_tokenized_padded)"
   ]
  },
  {
   "cell_type": "code",
   "execution_count": 10,
   "metadata": {},
   "outputs": [],
   "source": [
    "predicted_são_paulo_sample_tokenized_padded = model(são_paulo_sample_tokenized_padded)"
   ]
  },
  {
   "cell_type": "code",
   "execution_count": 11,
   "metadata": {},
   "outputs": [
    {
     "output_type": "stream",
     "name": "stdout",
     "text": [
      "1 Processo\n1 1001933\n1 38\n1 2015\n1 8\n1 26\n1 0269\n14 Execução\n2 de\n2 Alimentos\n1 Valor\n1 da\n1 Execução\n1 Cálculo\n1 Atualização\n1 I\n1 M\n1 E\n1 L\n1 S\n1 A\n1 L\n1 S\n1 Vistos\n1 Fls\n1 245\n1 246\n1 e\n1 248\n1 Ciente\n1 Fls\n1 249\n1 250\n1 Em\n1 que\n1 o\n1 apresentado\n1 tais\n1 argumentos\n1 carecem\n1 de\n1 comprovação\n1 De\n1 tal\n1 modo\n1 para\n1 tanto\n1 concedo\n1 10\n1 dez\n1 dias\n1 Após\n1 com\n1 ou\n1 sem\n1 manifestação\n1 tornem\n1 conclusos\n1 Int\n1 ADV\n1 FÁBIO\n1 ALBUQUERQUE\n1 OAB\n1 164311\n1 SP\n1 VITOR\n1 DE\n1 CAMARGO\n1 HOLTZ\n1 MORAES\n1 OAB\n1 134223\n1 SP\n1 MARINA\n1 LEMBO\n1 TEDESCHI\n1 LÊRA\n1 PALMIRO\n1 OAB\n1 364785\n1 SP\n"
     ]
    }
   ],
   "source": [
    "for i,p in enumerate(predicted_são_paulo_sample_tokenized_padded[0]):\n",
    "    if (i < len(são_paulo_sample_tokenized[0])): \n",
    "        print(np.argmax(p),tok.index_word[são_paulo_sample_tokenized[0][i]])"
   ]
  }
 ],
 "metadata": {
  "kernelspec": {
   "display_name": "Bem_Agro_env",
   "language": "python",
   "name": "bem_agro_env"
  },
  "language_info": {
   "codemirror_mode": {
    "name": "ipython",
    "version": 3
   },
   "file_extension": ".py",
   "mimetype": "text/x-python",
   "name": "python",
   "nbconvert_exporter": "python",
   "pygments_lexer": "ipython3",
   "version": "3.8.5-final"
  }
 },
 "nbformat": 4,
 "nbformat_minor": 4
}