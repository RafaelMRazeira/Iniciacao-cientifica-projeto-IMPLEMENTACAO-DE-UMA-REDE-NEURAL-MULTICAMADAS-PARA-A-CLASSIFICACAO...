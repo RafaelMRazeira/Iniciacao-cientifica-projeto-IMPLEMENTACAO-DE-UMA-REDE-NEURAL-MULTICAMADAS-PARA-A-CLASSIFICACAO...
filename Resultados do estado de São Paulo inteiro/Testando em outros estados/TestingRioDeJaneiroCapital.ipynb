{
 "cells": [
  {
   "cell_type": "code",
   "execution_count": 1,
   "metadata": {},
   "outputs": [],
   "source": [
    "import numpy as np\n",
    "import json\n",
    "from tensorflow.keras.preprocessing.text import tokenizer_from_json\n",
    "from tensorflow.keras.preprocessing.sequence import pad_sequences\n",
    "import pandas as pd\n",
    "import tensorflow as tf"
   ]
  },
  {
   "cell_type": "code",
   "execution_count": 2,
   "metadata": {},
   "outputs": [],
   "source": [
    "len_vcb = 366549\n",
    "seed = 123\n",
    "max_len = 150"
   ]
  },
  {
   "cell_type": "code",
   "execution_count": 3,
   "metadata": {},
   "outputs": [],
   "source": [
    "with open('/home/rafael/Documents/Faculdade/ICs/IC Direito/codes/pre-processing/3. Fine-Tuning NER rodando no servidor/Resultados em toda base de SP/utils/tokenizer_100k.json') as f: \n",
    "    data = json.load(f) \n",
    "    tok = tokenizer_from_json(data)"
   ]
  },
  {
   "cell_type": "code",
   "execution_count": 4,
   "metadata": {},
   "outputs": [],
   "source": [
    "### definindo metricas customizadas\n",
    "\n",
    "def recall(y_true, y_pred):\n",
    "    y_pred = tf.cast(K.argmax(y_pred), tf.float32) # transformando o vetor de (None, 150, n_tags) para (None, 150)\n",
    "    macro_recall = 0\n",
    "    y_pred = y_pred[y_true != 0] # retira zero\n",
    "    y_true = y_true[y_true != 0] # retira zero\n",
    "    equals = y_pred[K.equal(y_true,y_pred)]  # calcula os verdadeiros positivos, ignorando o zero\n",
    "    \n",
    "    for i in range(1,n_tags):\n",
    "        equals_positives = equals[equals == i]  \n",
    "        true_positives = K.sum(equals_positives/i) # divide por i, para que os valores se tornem 1\n",
    "\n",
    "        equals_possibles = y_true[K.equal(y_true,K.constant(i))]/i\n",
    "        possible_positives = K.sum(equals_possibles)\n",
    "\n",
    "        recall = true_positives / (possible_positives + K.epsilon())\n",
    "        macro_recall = macro_recall + recall\n",
    "\n",
    "    macro_recall = macro_recall/(n_tags-1)  \n",
    "\n",
    "    return macro_recall\n",
    "\n",
    "def precision(y_true, y_pred):\n",
    "    y_pred = tf.cast(K.argmax(y_pred), tf.float32) # trannsformando o vetor de (None, 150, n_tags) para (None, 150)\n",
    "    macro_precision = 0\n",
    "    y_pred = y_pred[y_true != 0] # retira zero\n",
    "    y_true = y_true[y_true != 0] # retira zero\n",
    "    equals = y_true[K.equal(y_true,y_pred)]  # calcula os verdadeiros positivos, ignorando o zero\n",
    "    \n",
    "    for i in range(1,n_tags):\n",
    "        equals_positives = equals[equals == i]  \n",
    "        true_positives = K.sum(equals_positives/i) # divide por i, para que os valores se tornem 1\n",
    "\n",
    "        equals_pred_possibles = y_pred[K.equal(y_pred,K.constant(i))]/i\n",
    "        predicted_positives = K.sum(equals_pred_possibles)\n",
    "\n",
    "        precision = true_positives / (predicted_positives + K.epsilon())\n",
    "        macro_precision = macro_precision + precision\n",
    "\n",
    "    macro_precision = macro_precision/(n_tags-1)\n",
    "\n",
    "    return macro_precision\n",
    "\n",
    "def macro_f1(y_true, y_pred):\n",
    "    prec = precision(y_true, y_pred)\n",
    "    rec = recall(y_true, y_pred)\n",
    "    return 2*((prec*rec)/(prec+rec+K.epsilon()))"
   ]
  },
  {
   "cell_type": "code",
   "execution_count": 5,
   "metadata": {},
   "outputs": [],
   "source": [
    "custom_metrics = {\"recall\": recall,\"precision\": precision, \"macro_f1\": macro_f1}\n",
    "model = tf.keras.models.load_model(\n",
    "    '/home/rafael/Documents/Faculdade/ICs/IC Direito/codes/pre-processing/3. Fine-Tuning NER rodando no servidor/Resultados em toda base de SP/SP_TOTAL_1EPOCH.h5',\n",
    "    custom_objects=custom_metrics)"
   ]
  },
  {
   "cell_type": "code",
   "execution_count": 6,
   "metadata": {},
   "outputs": [],
   "source": [
    "rio_de_janeiro_df = pd.read_json('/home/rafael/Documents/Faculdade/ICs/IC Direito/data/samples/sample_rio_de_janeiro_edital_capital.json', lines=True)    "
   ]
  },
  {
   "cell_type": "code",
   "execution_count": 7,
   "metadata": {},
   "outputs": [
    {
     "data": {
      "text/plain": [
       "['Proc. 0039512-74.2008.8.19.0205 (2008.205.039484-0) - IZABEL CRISTINA MATOS RUBENS, IGOR MATOS DE MORAES (Adv(s). Dr(a). LEONARDO ORSINI DE CASTRO AMARANTE (OAB/RJ-055328) X TRANSPORTES ORIENTAL LTDA Despacho: Diante do certificado as fls.295, remetam-se os autos ao arquivo.']"
      ]
     },
     "execution_count": 7,
     "metadata": {},
     "output_type": "execute_result"
    }
   ],
   "source": [
    "rio_de_janeiro_sample = rio_de_janeiro_df.sample(1, random_state=seed)['conteudo'].to_list()\n",
    "rio_de_janeiro_sample"
   ]
  },
  {
   "cell_type": "code",
   "execution_count": 8,
   "metadata": {},
   "outputs": [
    {
     "data": {
      "text/html": [
       "<div>\n",
       "<style scoped>\n",
       "    .dataframe tbody tr th:only-of-type {\n",
       "        vertical-align: middle;\n",
       "    }\n",
       "\n",
       "    .dataframe tbody tr th {\n",
       "        vertical-align: top;\n",
       "    }\n",
       "\n",
       "    .dataframe thead th {\n",
       "        text-align: right;\n",
       "    }\n",
       "</style>\n",
       "<table border=\"1\" class=\"dataframe\">\n",
       "  <thead>\n",
       "    <tr style=\"text-align: right;\">\n",
       "      <th></th>\n",
       "      <th>0</th>\n",
       "      <th>1</th>\n",
       "      <th>2</th>\n",
       "      <th>3</th>\n",
       "      <th>4</th>\n",
       "      <th>5</th>\n",
       "      <th>6</th>\n",
       "      <th>7</th>\n",
       "      <th>8</th>\n",
       "      <th>9</th>\n",
       "      <th>...</th>\n",
       "      <th>38</th>\n",
       "      <th>39</th>\n",
       "      <th>40</th>\n",
       "      <th>41</th>\n",
       "      <th>42</th>\n",
       "      <th>43</th>\n",
       "      <th>44</th>\n",
       "      <th>45</th>\n",
       "      <th>46</th>\n",
       "      <th>47</th>\n",
       "    </tr>\n",
       "  </thead>\n",
       "  <tbody>\n",
       "    <tr>\n",
       "      <th>0</th>\n",
       "      <td>1342</td>\n",
       "      <td>1</td>\n",
       "      <td>848</td>\n",
       "      <td>280</td>\n",
       "      <td>15</td>\n",
       "      <td>479</td>\n",
       "      <td>15327</td>\n",
       "      <td>280</td>\n",
       "      <td>3808</td>\n",
       "      <td>1</td>\n",
       "      <td>...</td>\n",
       "      <td>1733</td>\n",
       "      <td>29</td>\n",
       "      <td>31</td>\n",
       "      <td>3923</td>\n",
       "      <td>1238</td>\n",
       "      <td>8</td>\n",
       "      <td>21</td>\n",
       "      <td>34</td>\n",
       "      <td>19</td>\n",
       "      <td>387</td>\n",
       "    </tr>\n",
       "  </tbody>\n",
       "</table>\n",
       "<p>1 rows × 48 columns</p>\n",
       "</div>"
      ],
      "text/plain": [
       "     0   1    2    3   4    5      6    7     8   9   ...    38  39  40    41  \\\n",
       "0  1342   1  848  280  15  479  15327  280  3808   1  ...  1733  29  31  3923   \n",
       "\n",
       "     42  43  44  45  46   47  \n",
       "0  1238   8  21  34  19  387  \n",
       "\n",
       "[1 rows x 48 columns]"
      ]
     },
     "execution_count": 8,
     "metadata": {},
     "output_type": "execute_result"
    }
   ],
   "source": [
    "rio_de_janeiro_sample_tokenized = tok.texts_to_sequences(rio_de_janeiro_sample)\n",
    "pd.DataFrame(rio_de_janeiro_sample_tokenized[0]).T"
   ]
  },
  {
   "cell_type": "code",
   "execution_count": 9,
   "metadata": {},
   "outputs": [
    {
     "data": {
      "text/html": [
       "<div>\n",
       "<style scoped>\n",
       "    .dataframe tbody tr th:only-of-type {\n",
       "        vertical-align: middle;\n",
       "    }\n",
       "\n",
       "    .dataframe tbody tr th {\n",
       "        vertical-align: top;\n",
       "    }\n",
       "\n",
       "    .dataframe thead th {\n",
       "        text-align: right;\n",
       "    }\n",
       "</style>\n",
       "<table border=\"1\" class=\"dataframe\">\n",
       "  <thead>\n",
       "    <tr style=\"text-align: right;\">\n",
       "      <th></th>\n",
       "      <th>0</th>\n",
       "      <th>1</th>\n",
       "      <th>2</th>\n",
       "      <th>3</th>\n",
       "      <th>4</th>\n",
       "      <th>5</th>\n",
       "      <th>6</th>\n",
       "      <th>7</th>\n",
       "      <th>8</th>\n",
       "      <th>9</th>\n",
       "      <th>...</th>\n",
       "      <th>140</th>\n",
       "      <th>141</th>\n",
       "      <th>142</th>\n",
       "      <th>143</th>\n",
       "      <th>144</th>\n",
       "      <th>145</th>\n",
       "      <th>146</th>\n",
       "      <th>147</th>\n",
       "      <th>148</th>\n",
       "      <th>149</th>\n",
       "    </tr>\n",
       "  </thead>\n",
       "  <tbody>\n",
       "    <tr>\n",
       "      <th>0</th>\n",
       "      <td>1342</td>\n",
       "      <td>1</td>\n",
       "      <td>848</td>\n",
       "      <td>280</td>\n",
       "      <td>15</td>\n",
       "      <td>479</td>\n",
       "      <td>15327</td>\n",
       "      <td>280</td>\n",
       "      <td>3808</td>\n",
       "      <td>1</td>\n",
       "      <td>...</td>\n",
       "      <td>0</td>\n",
       "      <td>0</td>\n",
       "      <td>0</td>\n",
       "      <td>0</td>\n",
       "      <td>0</td>\n",
       "      <td>0</td>\n",
       "      <td>0</td>\n",
       "      <td>0</td>\n",
       "      <td>0</td>\n",
       "      <td>0</td>\n",
       "    </tr>\n",
       "  </tbody>\n",
       "</table>\n",
       "<p>1 rows × 150 columns</p>\n",
       "</div>"
      ],
      "text/plain": [
       "    0    1    2    3    4    5      6    7     8    9    ...  140  141  142  \\\n",
       "0  1342    1  848  280   15  479  15327  280  3808    1  ...    0    0    0   \n",
       "\n",
       "   143  144  145  146  147  148  149  \n",
       "0    0    0    0    0    0    0    0  \n",
       "\n",
       "[1 rows x 150 columns]"
      ]
     },
     "execution_count": 9,
     "metadata": {},
     "output_type": "execute_result"
    }
   ],
   "source": [
    "rio_de_janeiro_sample_tokenized_padded = pad_sequences(maxlen=max_len,\n",
    "                                    sequences=rio_de_janeiro_sample_tokenized,\n",
    "                                    padding=\"post\",\n",
    "                                    truncating=\"post\")\n",
    "pd.DataFrame(rio_de_janeiro_sample_tokenized_padded)"
   ]
  },
  {
   "cell_type": "code",
   "execution_count": 10,
   "metadata": {},
   "outputs": [],
   "source": [
    "predicted_rio_de_janeiro_sample_tokenized_padded = model(rio_de_janeiro_sample_tokenized_padded)"
   ]
  },
  {
   "cell_type": "code",
   "execution_count": 11,
   "metadata": {},
   "outputs": [
    {
     "name": "stdout",
     "output_type": "stream",
     "text": [
      "1 Proc\n",
      "1 UNK\n",
      "1 74\n",
      "1 2008\n",
      "1 8\n",
      "1 19\n",
      "1 0205\n",
      "14 2008\n",
      "1 205\n",
      "1 UNK\n",
      "1 0\n",
      "1 IZABEL\n",
      "1 CRISTINA\n",
      "1 MATOS\n",
      "1 RUBENS\n",
      "1 IGOR\n",
      "1 MATOS\n",
      "1 DE\n",
      "1 MORAES\n",
      "1 Adv\n",
      "1 s\n",
      "1 Dr\n",
      "1 a\n",
      "1 LEONARDO\n",
      "1 ORSINI\n",
      "1 DE\n",
      "1 CASTRO\n",
      "1 AMARANTE\n",
      "1 OAB\n",
      "1 RJ\n",
      "1 UNK\n",
      "1 X\n",
      "1 TRANSPORTES\n",
      "1 UNK\n",
      "1 LTDA\n",
      "1 Despacho\n",
      "1 Diante\n",
      "1 do\n",
      "1 certificado\n",
      "1 as\n",
      "1 fls\n",
      "1 295\n",
      "1 remetam\n",
      "1 se\n",
      "1 os\n",
      "1 autos\n",
      "1 ao\n",
      "1 arquivo\n"
     ]
    }
   ],
   "source": [
    "for i,p in enumerate(predicted_rio_de_janeiro_sample_tokenized_padded[0]):\n",
    "    if (i < len(rio_de_janeiro_sample_tokenized[0])): \n",
    "        print(np.argmax(p),tok.index_word[rio_de_janeiro_sample_tokenized[0][i]])"
   ]
  }
 ],
 "metadata": {
  "kernelspec": {
   "display_name": "Bem_Agro_env",
   "language": "python",
   "name": "bem_agro_env"
  },
  "language_info": {
   "codemirror_mode": {
    "name": "ipython",
    "version": 3
   },
   "file_extension": ".py",
   "mimetype": "text/x-python",
   "name": "python",
   "nbconvert_exporter": "python",
   "pygments_lexer": "ipython3",
   "version": "3.8.5"
  }
 },
 "nbformat": 4,
 "nbformat_minor": 4
}
